{
 "cells": [
  {
   "attachments": {},
   "cell_type": "markdown",
   "metadata": {},
   "source": [
    "### ESTUDO DE CASO - TESTE A/B"
   ]
  },
  {
   "cell_type": "code",
   "execution_count": 1,
   "metadata": {},
   "outputs": [
    {
     "name": "stderr",
     "output_type": "stream",
     "text": [
      "\n",
      "[notice] A new release of pip available: 22.3.1 -> 23.0\n",
      "[notice] To update, run: python.exe -m pip install --upgrade pip\n"
     ]
    }
   ],
   "source": [
    "# Watermark para gravar a versão dos pacotes no jupyter notebook\n",
    "!pip install -q -U watermark"
   ]
  },
  {
   "cell_type": "code",
   "execution_count": 2,
   "metadata": {},
   "outputs": [],
   "source": [
    "# Importa pacotes\n",
    "import pandas as pd\n",
    "import numpy as np"
   ]
  },
  {
   "cell_type": "code",
   "execution_count": 3,
   "metadata": {},
   "outputs": [
    {
     "name": "stdout",
     "output_type": "stream",
     "text": [
      "Author: Maria Eduarda\n",
      "\n",
      "pandas: 1.2.3\n",
      "sys   : 3.9.2 (tags/v3.9.2:1a79785, Feb 19 2021, 13:44:55) [MSC v.1928 64 bit (AMD64)]\n",
      "numpy : 1.20.2\n",
      "\n"
     ]
    }
   ],
   "source": [
    "# Versões dos pacotes usados nesse jupyter notebook\n",
    "%reload_ext watermark\n",
    "%watermark -a \"Maria Eduarda\" --iversions"
   ]
  },
  {
   "cell_type": "markdown",
   "metadata": {},
   "source": [
    "#### Análise Exploratória"
   ]
  },
  {
   "attachments": {},
   "cell_type": "markdown",
   "metadata": {},
   "source": [
    "version = Se o jogador foi colocado em um portão de nível 30 ou 40\n",
    "\n",
    "sumgamerounds = Número de rodadas jogadas por jogador durante os 14 primeiros dias depois da instalação\n",
    "\n",
    "retention_1 = Se o jogador voltou para jogar depois de 1 dia de instalação\n",
    "\n",
    "retention_7 = Se o jogador voltou para jogar depois de 7 dias de instalação"
   ]
  },
  {
   "cell_type": "code",
   "execution_count": 6,
   "metadata": {},
   "outputs": [
    {
     "data": {
      "text/html": [
       "<div>\n",
       "<style scoped>\n",
       "    .dataframe tbody tr th:only-of-type {\n",
       "        vertical-align: middle;\n",
       "    }\n",
       "\n",
       "    .dataframe tbody tr th {\n",
       "        vertical-align: top;\n",
       "    }\n",
       "\n",
       "    .dataframe thead th {\n",
       "        text-align: right;\n",
       "    }\n",
       "</style>\n",
       "<table border=\"1\" class=\"dataframe\">\n",
       "  <thead>\n",
       "    <tr style=\"text-align: right;\">\n",
       "      <th></th>\n",
       "      <th>userid</th>\n",
       "      <th>version</th>\n",
       "      <th>sum_gamerounds</th>\n",
       "      <th>retention_1</th>\n",
       "      <th>retention_7</th>\n",
       "    </tr>\n",
       "  </thead>\n",
       "  <tbody>\n",
       "    <tr>\n",
       "      <th>0</th>\n",
       "      <td>116</td>\n",
       "      <td>gate_30</td>\n",
       "      <td>3</td>\n",
       "      <td>False</td>\n",
       "      <td>False</td>\n",
       "    </tr>\n",
       "    <tr>\n",
       "      <th>1</th>\n",
       "      <td>337</td>\n",
       "      <td>gate_30</td>\n",
       "      <td>38</td>\n",
       "      <td>True</td>\n",
       "      <td>False</td>\n",
       "    </tr>\n",
       "    <tr>\n",
       "      <th>2</th>\n",
       "      <td>377</td>\n",
       "      <td>gate_40</td>\n",
       "      <td>165</td>\n",
       "      <td>True</td>\n",
       "      <td>False</td>\n",
       "    </tr>\n",
       "    <tr>\n",
       "      <th>3</th>\n",
       "      <td>483</td>\n",
       "      <td>gate_40</td>\n",
       "      <td>1</td>\n",
       "      <td>False</td>\n",
       "      <td>False</td>\n",
       "    </tr>\n",
       "    <tr>\n",
       "      <th>4</th>\n",
       "      <td>488</td>\n",
       "      <td>gate_40</td>\n",
       "      <td>179</td>\n",
       "      <td>True</td>\n",
       "      <td>True</td>\n",
       "    </tr>\n",
       "    <tr>\n",
       "      <th>...</th>\n",
       "      <td>...</td>\n",
       "      <td>...</td>\n",
       "      <td>...</td>\n",
       "      <td>...</td>\n",
       "      <td>...</td>\n",
       "    </tr>\n",
       "    <tr>\n",
       "      <th>90184</th>\n",
       "      <td>9999441</td>\n",
       "      <td>gate_40</td>\n",
       "      <td>97</td>\n",
       "      <td>True</td>\n",
       "      <td>False</td>\n",
       "    </tr>\n",
       "    <tr>\n",
       "      <th>90185</th>\n",
       "      <td>9999479</td>\n",
       "      <td>gate_40</td>\n",
       "      <td>30</td>\n",
       "      <td>False</td>\n",
       "      <td>False</td>\n",
       "    </tr>\n",
       "    <tr>\n",
       "      <th>90186</th>\n",
       "      <td>9999710</td>\n",
       "      <td>gate_30</td>\n",
       "      <td>28</td>\n",
       "      <td>True</td>\n",
       "      <td>False</td>\n",
       "    </tr>\n",
       "    <tr>\n",
       "      <th>90187</th>\n",
       "      <td>9999768</td>\n",
       "      <td>gate_40</td>\n",
       "      <td>51</td>\n",
       "      <td>True</td>\n",
       "      <td>False</td>\n",
       "    </tr>\n",
       "    <tr>\n",
       "      <th>90188</th>\n",
       "      <td>9999861</td>\n",
       "      <td>gate_40</td>\n",
       "      <td>16</td>\n",
       "      <td>False</td>\n",
       "      <td>False</td>\n",
       "    </tr>\n",
       "  </tbody>\n",
       "</table>\n",
       "<p>90189 rows × 5 columns</p>\n",
       "</div>"
      ],
      "text/plain": [
       "        userid  version  sum_gamerounds  retention_1  retention_7\n",
       "0          116  gate_30               3        False        False\n",
       "1          337  gate_30              38         True        False\n",
       "2          377  gate_40             165         True        False\n",
       "3          483  gate_40               1        False        False\n",
       "4          488  gate_40             179         True         True\n",
       "...        ...      ...             ...          ...          ...\n",
       "90184  9999441  gate_40              97         True        False\n",
       "90185  9999479  gate_40              30        False        False\n",
       "90186  9999710  gate_30              28         True        False\n",
       "90187  9999768  gate_40              51         True        False\n",
       "90188  9999861  gate_40              16        False        False\n",
       "\n",
       "[90189 rows x 5 columns]"
      ]
     },
     "execution_count": 6,
     "metadata": {},
     "output_type": "execute_result"
    }
   ],
   "source": [
    "# fonte: https://www.kaggle.com/datasets/mursideyarkin/mobile-games-ab-testing-cookie-cats?resource=download\n",
    "dados = pd.read_csv('cookie_cats.csv')\n",
    "dados"
   ]
  },
  {
   "cell_type": "code",
   "execution_count": 7,
   "metadata": {},
   "outputs": [
    {
     "data": {
      "text/plain": [
       "(90189, 5)"
      ]
     },
     "execution_count": 7,
     "metadata": {},
     "output_type": "execute_result"
    }
   ],
   "source": [
    "dados.shape"
   ]
  },
  {
   "cell_type": "code",
   "execution_count": 8,
   "metadata": {},
   "outputs": [
    {
     "name": "stdout",
     "output_type": "stream",
     "text": [
      "<class 'pandas.core.frame.DataFrame'>\n",
      "RangeIndex: 90189 entries, 0 to 90188\n",
      "Data columns (total 5 columns):\n",
      " #   Column          Non-Null Count  Dtype \n",
      "---  ------          --------------  ----- \n",
      " 0   userid          90189 non-null  int64 \n",
      " 1   version         90189 non-null  object\n",
      " 2   sum_gamerounds  90189 non-null  int64 \n",
      " 3   retention_1     90189 non-null  bool  \n",
      " 4   retention_7     90189 non-null  bool  \n",
      "dtypes: bool(2), int64(2), object(1)\n",
      "memory usage: 2.2+ MB\n"
     ]
    }
   ],
   "source": [
    "dados.info()"
   ]
  },
  {
   "cell_type": "code",
   "execution_count": 9,
   "metadata": {},
   "outputs": [
    {
     "data": {
      "text/plain": [
       "userid            0\n",
       "version           0\n",
       "sum_gamerounds    0\n",
       "retention_1       0\n",
       "retention_7       0\n",
       "dtype: int64"
      ]
     },
     "execution_count": 9,
     "metadata": {},
     "output_type": "execute_result"
    }
   ],
   "source": [
    "dados.isnull().sum()"
   ]
  },
  {
   "cell_type": "code",
   "execution_count": 10,
   "metadata": {},
   "outputs": [
    {
     "data": {
      "text/plain": [
       "False    50036\n",
       "True     40153\n",
       "Name: retention_1, dtype: int64"
      ]
     },
     "execution_count": 10,
     "metadata": {},
     "output_type": "execute_result"
    }
   ],
   "source": [
    "# Proporção de retenção em 1 dia\n",
    "dados.retention_1.value_counts()"
   ]
  },
  {
   "cell_type": "code",
   "execution_count": 11,
   "metadata": {},
   "outputs": [
    {
     "data": {
      "text/plain": [
       "False    73408\n",
       "True     16781\n",
       "Name: retention_7, dtype: int64"
      ]
     },
     "execution_count": 11,
     "metadata": {},
     "output_type": "execute_result"
    }
   ],
   "source": [
    "# Proporçaõ de retenção em 7 dias\n",
    "dados.retention_7.value_counts()"
   ]
  },
  {
   "attachments": {},
   "cell_type": "markdown",
   "metadata": {},
   "source": [
    "#### Cálculo de probabilidades básicas\n",
    "Supondo que:\n",
    "\n",
    "Grupo de controle (o que já tem) = gate_30 \n",
    "\n",
    "Grupo de teste/tratamento = gate_40"
   ]
  },
  {
   "cell_type": "code",
   "execution_count": 12,
   "metadata": {},
   "outputs": [
    {
     "data": {
      "text/plain": [
       "49.56258523766757"
      ]
     },
     "execution_count": 12,
     "metadata": {},
     "output_type": "execute_result"
    }
   ],
   "source": [
    "# Probabilidade de um usuário visualizar o gate_30\n",
    "dados[dados.version == 'gate_30'].shape[0]/dados.shape[0] * 100"
   ]
  },
  {
   "cell_type": "code",
   "execution_count": 13,
   "metadata": {},
   "outputs": [
    {
     "data": {
      "text/plain": [
       "50.43741476233243"
      ]
     },
     "execution_count": 13,
     "metadata": {},
     "output_type": "execute_result"
    }
   ],
   "source": [
    "# Probabilidade de um usuário visualizar o gate_40\n",
    "dados[dados.version == 'gate_40'].shape[0]/dados.shape[0] * 100"
   ]
  },
  {
   "cell_type": "code",
   "execution_count": 14,
   "metadata": {},
   "outputs": [
    {
     "data": {
      "text/plain": [
       "(90189, 5)"
      ]
     },
     "execution_count": 14,
     "metadata": {},
     "output_type": "execute_result"
    }
   ],
   "source": [
    "dados.shape"
   ]
  },
  {
   "cell_type": "code",
   "execution_count": 15,
   "metadata": {},
   "outputs": [
    {
     "data": {
      "text/html": [
       "<div>\n",
       "<style scoped>\n",
       "    .dataframe tbody tr th:only-of-type {\n",
       "        vertical-align: middle;\n",
       "    }\n",
       "\n",
       "    .dataframe tbody tr th {\n",
       "        vertical-align: top;\n",
       "    }\n",
       "\n",
       "    .dataframe thead th {\n",
       "        text-align: right;\n",
       "    }\n",
       "</style>\n",
       "<table border=\"1\" class=\"dataframe\">\n",
       "  <thead>\n",
       "    <tr style=\"text-align: right;\">\n",
       "      <th></th>\n",
       "      <th>userid</th>\n",
       "      <th>version</th>\n",
       "      <th>sum_gamerounds</th>\n",
       "      <th>retention_1</th>\n",
       "      <th>retention_7</th>\n",
       "      <th>retention_1_num</th>\n",
       "      <th>retention_7_num</th>\n",
       "    </tr>\n",
       "  </thead>\n",
       "  <tbody>\n",
       "    <tr>\n",
       "      <th>0</th>\n",
       "      <td>116</td>\n",
       "      <td>gate_30</td>\n",
       "      <td>3</td>\n",
       "      <td>False</td>\n",
       "      <td>False</td>\n",
       "      <td>0</td>\n",
       "      <td>0</td>\n",
       "    </tr>\n",
       "    <tr>\n",
       "      <th>1</th>\n",
       "      <td>337</td>\n",
       "      <td>gate_30</td>\n",
       "      <td>38</td>\n",
       "      <td>True</td>\n",
       "      <td>False</td>\n",
       "      <td>1</td>\n",
       "      <td>0</td>\n",
       "    </tr>\n",
       "    <tr>\n",
       "      <th>2</th>\n",
       "      <td>377</td>\n",
       "      <td>gate_40</td>\n",
       "      <td>165</td>\n",
       "      <td>True</td>\n",
       "      <td>False</td>\n",
       "      <td>1</td>\n",
       "      <td>0</td>\n",
       "    </tr>\n",
       "    <tr>\n",
       "      <th>3</th>\n",
       "      <td>483</td>\n",
       "      <td>gate_40</td>\n",
       "      <td>1</td>\n",
       "      <td>False</td>\n",
       "      <td>False</td>\n",
       "      <td>0</td>\n",
       "      <td>0</td>\n",
       "    </tr>\n",
       "    <tr>\n",
       "      <th>4</th>\n",
       "      <td>488</td>\n",
       "      <td>gate_40</td>\n",
       "      <td>179</td>\n",
       "      <td>True</td>\n",
       "      <td>True</td>\n",
       "      <td>1</td>\n",
       "      <td>1</td>\n",
       "    </tr>\n",
       "    <tr>\n",
       "      <th>...</th>\n",
       "      <td>...</td>\n",
       "      <td>...</td>\n",
       "      <td>...</td>\n",
       "      <td>...</td>\n",
       "      <td>...</td>\n",
       "      <td>...</td>\n",
       "      <td>...</td>\n",
       "    </tr>\n",
       "    <tr>\n",
       "      <th>90184</th>\n",
       "      <td>9999441</td>\n",
       "      <td>gate_40</td>\n",
       "      <td>97</td>\n",
       "      <td>True</td>\n",
       "      <td>False</td>\n",
       "      <td>1</td>\n",
       "      <td>0</td>\n",
       "    </tr>\n",
       "    <tr>\n",
       "      <th>90185</th>\n",
       "      <td>9999479</td>\n",
       "      <td>gate_40</td>\n",
       "      <td>30</td>\n",
       "      <td>False</td>\n",
       "      <td>False</td>\n",
       "      <td>0</td>\n",
       "      <td>0</td>\n",
       "    </tr>\n",
       "    <tr>\n",
       "      <th>90186</th>\n",
       "      <td>9999710</td>\n",
       "      <td>gate_30</td>\n",
       "      <td>28</td>\n",
       "      <td>True</td>\n",
       "      <td>False</td>\n",
       "      <td>1</td>\n",
       "      <td>0</td>\n",
       "    </tr>\n",
       "    <tr>\n",
       "      <th>90187</th>\n",
       "      <td>9999768</td>\n",
       "      <td>gate_40</td>\n",
       "      <td>51</td>\n",
       "      <td>True</td>\n",
       "      <td>False</td>\n",
       "      <td>1</td>\n",
       "      <td>0</td>\n",
       "    </tr>\n",
       "    <tr>\n",
       "      <th>90188</th>\n",
       "      <td>9999861</td>\n",
       "      <td>gate_40</td>\n",
       "      <td>16</td>\n",
       "      <td>False</td>\n",
       "      <td>False</td>\n",
       "      <td>0</td>\n",
       "      <td>0</td>\n",
       "    </tr>\n",
       "  </tbody>\n",
       "</table>\n",
       "<p>90189 rows × 7 columns</p>\n",
       "</div>"
      ],
      "text/plain": [
       "        userid  version  sum_gamerounds  retention_1  retention_7  \\\n",
       "0          116  gate_30               3        False        False   \n",
       "1          337  gate_30              38         True        False   \n",
       "2          377  gate_40             165         True        False   \n",
       "3          483  gate_40               1        False        False   \n",
       "4          488  gate_40             179         True         True   \n",
       "...        ...      ...             ...          ...          ...   \n",
       "90184  9999441  gate_40              97         True        False   \n",
       "90185  9999479  gate_40              30        False        False   \n",
       "90186  9999710  gate_30              28         True        False   \n",
       "90187  9999768  gate_40              51         True        False   \n",
       "90188  9999861  gate_40              16        False        False   \n",
       "\n",
       "       retention_1_num  retention_7_num  \n",
       "0                    0                0  \n",
       "1                    1                0  \n",
       "2                    1                0  \n",
       "3                    0                0  \n",
       "4                    1                1  \n",
       "...                ...              ...  \n",
       "90184                1                0  \n",
       "90185                0                0  \n",
       "90186                1                0  \n",
       "90187                1                0  \n",
       "90188                0                0  \n",
       "\n",
       "[90189 rows x 7 columns]"
      ]
     },
     "execution_count": 15,
     "metadata": {},
     "output_type": "execute_result"
    }
   ],
   "source": [
    "# Substitui dados usando função\n",
    "\n",
    "def substitui(x):\n",
    "    if x == 'False':\n",
    "        x = 0\n",
    "    else:\n",
    "        x = 1\n",
    "    return x\n",
    "\n",
    "dados['retention_1_num'] = dados['retention_1'].astype(str).apply(substitui)   \n",
    "dados['retention_7_num'] = dados['retention_7'].astype(str).apply(substitui)\n",
    "dados\n"
   ]
  },
  {
   "attachments": {},
   "cell_type": "markdown",
   "metadata": {},
   "source": [
    "### Criação da Linha de Base (Baseline)\n",
    "\n",
    "#### Retenção 1 dia"
   ]
  },
  {
   "cell_type": "code",
   "execution_count": 16,
   "metadata": {},
   "outputs": [
    {
     "name": "stderr",
     "output_type": "stream",
     "text": [
      "c:\\Users\\madu_\\AppData\\Local\\Programs\\Python\\Python39\\lib\\site-packages\\pandas\\core\\frame.py:4441: SettingWithCopyWarning: \n",
      "A value is trying to be set on a copy of a slice from a DataFrame\n",
      "\n",
      "See the caveats in the documentation: https://pandas.pydata.org/pandas-docs/stable/user_guide/indexing.html#returning-a-view-versus-a-copy\n",
      "  return super().rename(\n"
     ]
    },
    {
     "data": {
      "text/html": [
       "<div>\n",
       "<style scoped>\n",
       "    .dataframe tbody tr th:only-of-type {\n",
       "        vertical-align: middle;\n",
       "    }\n",
       "\n",
       "    .dataframe tbody tr th {\n",
       "        vertical-align: top;\n",
       "    }\n",
       "\n",
       "    .dataframe thead th {\n",
       "        text-align: right;\n",
       "    }\n",
       "</style>\n",
       "<table border=\"1\" class=\"dataframe\">\n",
       "  <thead>\n",
       "    <tr style=\"text-align: right;\">\n",
       "      <th></th>\n",
       "      <th>versao</th>\n",
       "      <th>retencao_1</th>\n",
       "    </tr>\n",
       "  </thead>\n",
       "  <tbody>\n",
       "    <tr>\n",
       "      <th>0</th>\n",
       "      <td>gate_30</td>\n",
       "      <td>False</td>\n",
       "    </tr>\n",
       "    <tr>\n",
       "      <th>1</th>\n",
       "      <td>gate_30</td>\n",
       "      <td>True</td>\n",
       "    </tr>\n",
       "    <tr>\n",
       "      <th>2</th>\n",
       "      <td>gate_40</td>\n",
       "      <td>True</td>\n",
       "    </tr>\n",
       "    <tr>\n",
       "      <th>3</th>\n",
       "      <td>gate_40</td>\n",
       "      <td>False</td>\n",
       "    </tr>\n",
       "    <tr>\n",
       "      <th>4</th>\n",
       "      <td>gate_40</td>\n",
       "      <td>True</td>\n",
       "    </tr>\n",
       "  </tbody>\n",
       "</table>\n",
       "</div>"
      ],
      "text/plain": [
       "    versao  retencao_1\n",
       "0  gate_30       False\n",
       "1  gate_30        True\n",
       "2  gate_40        True\n",
       "3  gate_40       False\n",
       "4  gate_40        True"
      ]
     },
     "execution_count": 16,
     "metadata": {},
     "output_type": "execute_result"
    }
   ],
   "source": [
    "# Escolhe apenas 2 colunas do dataset\n",
    "df_ab_retencao_1  = dados[['version','retention_1']]\n",
    "#df_ab_retencao_1.columns = [['versao','retencao_1']] # forma A de renomeação de colunas ERRO EM PIVOT_TABLE\n",
    "df_ab_retencao_1.rename(columns={'version':'versao','retention_1':'retencao_1'}, inplace=True) # forma B de renomeação de colunas\n",
    "df_ab_retencao_1.head()"
   ]
  },
  {
   "cell_type": "code",
   "execution_count": 17,
   "metadata": {},
   "outputs": [
    {
     "data": {
      "text/plain": [
       "gate_40    45489\n",
       "gate_30    44700\n",
       "Name: versao, dtype: int64"
      ]
     },
     "execution_count": 17,
     "metadata": {},
     "output_type": "execute_result"
    }
   ],
   "source": [
    "df_ab_retencao_1.versao.value_counts()"
   ]
  },
  {
   "cell_type": "code",
   "execution_count": 18,
   "metadata": {},
   "outputs": [
    {
     "data": {
      "text/plain": [
       "(90189, 2)"
      ]
     },
     "execution_count": 18,
     "metadata": {},
     "output_type": "execute_result"
    }
   ],
   "source": [
    "df_ab_retencao_1.shape"
   ]
  },
  {
   "cell_type": "code",
   "execution_count": 19,
   "metadata": {},
   "outputs": [
    {
     "data": {
      "text/html": [
       "<div>\n",
       "<style scoped>\n",
       "    .dataframe tbody tr th:only-of-type {\n",
       "        vertical-align: middle;\n",
       "    }\n",
       "\n",
       "    .dataframe tbody tr th {\n",
       "        vertical-align: top;\n",
       "    }\n",
       "\n",
       "    .dataframe thead th {\n",
       "        text-align: right;\n",
       "    }\n",
       "</style>\n",
       "<table border=\"1\" class=\"dataframe\">\n",
       "  <thead>\n",
       "    <tr style=\"text-align: right;\">\n",
       "      <th></th>\n",
       "      <th>retencao_1</th>\n",
       "    </tr>\n",
       "    <tr>\n",
       "      <th>versao</th>\n",
       "      <th></th>\n",
       "    </tr>\n",
       "  </thead>\n",
       "  <tbody>\n",
       "    <tr>\n",
       "      <th>gate_30</th>\n",
       "      <td>20034</td>\n",
       "    </tr>\n",
       "    <tr>\n",
       "      <th>gate_40</th>\n",
       "      <td>20119</td>\n",
       "    </tr>\n",
       "  </tbody>\n",
       "</table>\n",
       "</div>"
      ],
      "text/plain": [
       "         retencao_1\n",
       "versao             \n",
       "gate_30       20034\n",
       "gate_40       20119"
      ]
     },
     "execution_count": 19,
     "metadata": {},
     "output_type": "execute_result"
    }
   ],
   "source": [
    "dados_sumario1 = df_ab_retencao_1.pivot_table(values='retencao_1', index='versao', aggfunc=np.sum)\n",
    "dados_sumario1"
   ]
  },
  {
   "cell_type": "code",
   "execution_count": 20,
   "metadata": {},
   "outputs": [
    {
     "data": {
      "text/plain": [
       "versao\n",
       "gate_30    44700\n",
       "gate_40    45489\n",
       "Name: total, dtype: int64"
      ]
     },
     "execution_count": 20,
     "metadata": {},
     "output_type": "execute_result"
    }
   ],
   "source": [
    "# Somatório de linhas\n",
    "dados_sumario1['total'] = df_ab_retencao_1.pivot_table(values='retencao_1', index='versao', aggfunc = lambda x: len(x))\n",
    "dados_sumario1['total']"
   ]
  },
  {
   "cell_type": "code",
   "execution_count": 21,
   "metadata": {},
   "outputs": [
    {
     "data": {
      "text/plain": [
       "versao\n",
       "gate_30    0.448188\n",
       "gate_40    0.442283\n",
       "Name: taxa, dtype: float64"
      ]
     },
     "execution_count": 21,
     "metadata": {},
     "output_type": "execute_result"
    }
   ],
   "source": [
    "# Sumário com taxa em porcentagem\n",
    "dados_sumario1['taxa'] = df_ab_retencao_1.pivot_table(values='retencao_1', index='versao')\n",
    "dados_sumario1['taxa']"
   ]
  },
  {
   "cell_type": "code",
   "execution_count": 22,
   "metadata": {},
   "outputs": [
    {
     "data": {
      "text/html": [
       "<div>\n",
       "<style scoped>\n",
       "    .dataframe tbody tr th:only-of-type {\n",
       "        vertical-align: middle;\n",
       "    }\n",
       "\n",
       "    .dataframe tbody tr th {\n",
       "        vertical-align: top;\n",
       "    }\n",
       "\n",
       "    .dataframe thead th {\n",
       "        text-align: right;\n",
       "    }\n",
       "</style>\n",
       "<table border=\"1\" class=\"dataframe\">\n",
       "  <thead>\n",
       "    <tr style=\"text-align: right;\">\n",
       "      <th></th>\n",
       "      <th>retencao_1</th>\n",
       "      <th>total</th>\n",
       "      <th>taxa</th>\n",
       "    </tr>\n",
       "    <tr>\n",
       "      <th>versao</th>\n",
       "      <th></th>\n",
       "      <th></th>\n",
       "      <th></th>\n",
       "    </tr>\n",
       "  </thead>\n",
       "  <tbody>\n",
       "    <tr>\n",
       "      <th>gate_30</th>\n",
       "      <td>20034</td>\n",
       "      <td>44700</td>\n",
       "      <td>0.448188</td>\n",
       "    </tr>\n",
       "    <tr>\n",
       "      <th>gate_40</th>\n",
       "      <td>20119</td>\n",
       "      <td>45489</td>\n",
       "      <td>0.442283</td>\n",
       "    </tr>\n",
       "  </tbody>\n",
       "</table>\n",
       "</div>"
      ],
      "text/plain": [
       "         retencao_1  total      taxa\n",
       "versao                              \n",
       "gate_30       20034  44700  0.448188\n",
       "gate_40       20119  45489  0.442283"
      ]
     },
     "execution_count": 22,
     "metadata": {},
     "output_type": "execute_result"
    }
   ],
   "source": [
    "dados_sumario1"
   ]
  },
  {
   "cell_type": "code",
   "execution_count": 23,
   "metadata": {},
   "outputs": [
    {
     "data": {
      "text/html": [
       "<div>\n",
       "<style scoped>\n",
       "    .dataframe tbody tr th:only-of-type {\n",
       "        vertical-align: middle;\n",
       "    }\n",
       "\n",
       "    .dataframe tbody tr th {\n",
       "        vertical-align: top;\n",
       "    }\n",
       "\n",
       "    .dataframe thead th {\n",
       "        text-align: right;\n",
       "    }\n",
       "</style>\n",
       "<table border=\"1\" class=\"dataframe\">\n",
       "  <thead>\n",
       "    <tr style=\"text-align: right;\">\n",
       "      <th></th>\n",
       "      <th>versao</th>\n",
       "      <th>retencao_1</th>\n",
       "    </tr>\n",
       "  </thead>\n",
       "  <tbody>\n",
       "    <tr>\n",
       "      <th>2</th>\n",
       "      <td>gate_40</td>\n",
       "      <td>True</td>\n",
       "    </tr>\n",
       "    <tr>\n",
       "      <th>4</th>\n",
       "      <td>gate_40</td>\n",
       "      <td>True</td>\n",
       "    </tr>\n",
       "    <tr>\n",
       "      <th>5</th>\n",
       "      <td>gate_40</td>\n",
       "      <td>True</td>\n",
       "    </tr>\n",
       "    <tr>\n",
       "      <th>8</th>\n",
       "      <td>gate_40</td>\n",
       "      <td>True</td>\n",
       "    </tr>\n",
       "    <tr>\n",
       "      <th>9</th>\n",
       "      <td>gate_40</td>\n",
       "      <td>True</td>\n",
       "    </tr>\n",
       "    <tr>\n",
       "      <th>...</th>\n",
       "      <td>...</td>\n",
       "      <td>...</td>\n",
       "    </tr>\n",
       "    <tr>\n",
       "      <th>90150</th>\n",
       "      <td>gate_40</td>\n",
       "      <td>True</td>\n",
       "    </tr>\n",
       "    <tr>\n",
       "      <th>90159</th>\n",
       "      <td>gate_40</td>\n",
       "      <td>True</td>\n",
       "    </tr>\n",
       "    <tr>\n",
       "      <th>90181</th>\n",
       "      <td>gate_40</td>\n",
       "      <td>True</td>\n",
       "    </tr>\n",
       "    <tr>\n",
       "      <th>90184</th>\n",
       "      <td>gate_40</td>\n",
       "      <td>True</td>\n",
       "    </tr>\n",
       "    <tr>\n",
       "      <th>90187</th>\n",
       "      <td>gate_40</td>\n",
       "      <td>True</td>\n",
       "    </tr>\n",
       "  </tbody>\n",
       "</table>\n",
       "<p>20119 rows × 2 columns</p>\n",
       "</div>"
      ],
      "text/plain": [
       "        versao  retencao_1\n",
       "2      gate_40        True\n",
       "4      gate_40        True\n",
       "5      gate_40        True\n",
       "8      gate_40        True\n",
       "9      gate_40        True\n",
       "...        ...         ...\n",
       "90150  gate_40        True\n",
       "90159  gate_40        True\n",
       "90181  gate_40        True\n",
       "90184  gate_40        True\n",
       "90187  gate_40        True\n",
       "\n",
       "[20119 rows x 2 columns]"
      ]
     },
     "execution_count": 23,
     "metadata": {},
     "output_type": "execute_result"
    }
   ],
   "source": [
    "# Conferindo taxa de conversão\n",
    "df_ab_retencao_1.loc[(df_ab_retencao_1['versao'] == 'gate_40') & (df_ab_retencao_1['retencao_1'] == True)]"
   ]
  },
  {
   "cell_type": "code",
   "execution_count": 24,
   "metadata": {},
   "outputs": [
    {
     "name": "stdout",
     "output_type": "stream",
     "text": [
      "conversao_30 = 20034\n",
      "total_30 =  44700\n",
      "taxa_30 = 0.4481879194630872\n"
     ]
    }
   ],
   "source": [
    "# Obtem os valores de gate_30\n",
    "\n",
    "conversao1_30 = dados_sumario1['retencao_1'][0]\n",
    "print('conversao_30 =',conversao1_30)\n",
    "total1_30 = dados_sumario1['total'][0]\n",
    "print('total_30 = ', total1_30)\n",
    "taxa1_30 = dados_sumario1['taxa'][0]\n",
    "print('taxa_30 =', taxa1_30)"
   ]
  },
  {
   "cell_type": "code",
   "execution_count": 25,
   "metadata": {},
   "outputs": [
    {
     "name": "stdout",
     "output_type": "stream",
     "text": [
      "conversao_40 = 20119\n",
      "total_40 =  45489\n",
      "taxa_40 = 0.44228274967574577\n"
     ]
    }
   ],
   "source": [
    "# Obtem os valores de gate_40\n",
    "\n",
    "conversao1_40 = dados_sumario1['retencao_1'][1]\n",
    "print('conversao_40 =',conversao1_40)\n",
    "total1_40 = dados_sumario1['total'][1]\n",
    "print('total_40 = ', total1_40)\n",
    "taxa1_40 = dados_sumario1['taxa'][1]\n",
    "print('taxa_40 =', taxa1_40)"
   ]
  },
  {
   "attachments": {},
   "cell_type": "markdown",
   "metadata": {},
   "source": [
    "#### Retenção 7 dias"
   ]
  },
  {
   "cell_type": "code",
   "execution_count": 26,
   "metadata": {},
   "outputs": [
    {
     "name": "stderr",
     "output_type": "stream",
     "text": [
      "c:\\Users\\madu_\\AppData\\Local\\Programs\\Python\\Python39\\lib\\site-packages\\pandas\\core\\frame.py:4441: SettingWithCopyWarning: \n",
      "A value is trying to be set on a copy of a slice from a DataFrame\n",
      "\n",
      "See the caveats in the documentation: https://pandas.pydata.org/pandas-docs/stable/user_guide/indexing.html#returning-a-view-versus-a-copy\n",
      "  return super().rename(\n"
     ]
    },
    {
     "data": {
      "text/html": [
       "<div>\n",
       "<style scoped>\n",
       "    .dataframe tbody tr th:only-of-type {\n",
       "        vertical-align: middle;\n",
       "    }\n",
       "\n",
       "    .dataframe tbody tr th {\n",
       "        vertical-align: top;\n",
       "    }\n",
       "\n",
       "    .dataframe thead th {\n",
       "        text-align: right;\n",
       "    }\n",
       "</style>\n",
       "<table border=\"1\" class=\"dataframe\">\n",
       "  <thead>\n",
       "    <tr style=\"text-align: right;\">\n",
       "      <th></th>\n",
       "      <th>versao</th>\n",
       "      <th>retencao_7</th>\n",
       "    </tr>\n",
       "  </thead>\n",
       "  <tbody>\n",
       "    <tr>\n",
       "      <th>0</th>\n",
       "      <td>gate_30</td>\n",
       "      <td>False</td>\n",
       "    </tr>\n",
       "    <tr>\n",
       "      <th>1</th>\n",
       "      <td>gate_30</td>\n",
       "      <td>False</td>\n",
       "    </tr>\n",
       "    <tr>\n",
       "      <th>2</th>\n",
       "      <td>gate_40</td>\n",
       "      <td>False</td>\n",
       "    </tr>\n",
       "    <tr>\n",
       "      <th>3</th>\n",
       "      <td>gate_40</td>\n",
       "      <td>False</td>\n",
       "    </tr>\n",
       "    <tr>\n",
       "      <th>4</th>\n",
       "      <td>gate_40</td>\n",
       "      <td>True</td>\n",
       "    </tr>\n",
       "    <tr>\n",
       "      <th>...</th>\n",
       "      <td>...</td>\n",
       "      <td>...</td>\n",
       "    </tr>\n",
       "    <tr>\n",
       "      <th>90184</th>\n",
       "      <td>gate_40</td>\n",
       "      <td>False</td>\n",
       "    </tr>\n",
       "    <tr>\n",
       "      <th>90185</th>\n",
       "      <td>gate_40</td>\n",
       "      <td>False</td>\n",
       "    </tr>\n",
       "    <tr>\n",
       "      <th>90186</th>\n",
       "      <td>gate_30</td>\n",
       "      <td>False</td>\n",
       "    </tr>\n",
       "    <tr>\n",
       "      <th>90187</th>\n",
       "      <td>gate_40</td>\n",
       "      <td>False</td>\n",
       "    </tr>\n",
       "    <tr>\n",
       "      <th>90188</th>\n",
       "      <td>gate_40</td>\n",
       "      <td>False</td>\n",
       "    </tr>\n",
       "  </tbody>\n",
       "</table>\n",
       "<p>90189 rows × 2 columns</p>\n",
       "</div>"
      ],
      "text/plain": [
       "        versao  retencao_7\n",
       "0      gate_30       False\n",
       "1      gate_30       False\n",
       "2      gate_40       False\n",
       "3      gate_40       False\n",
       "4      gate_40        True\n",
       "...        ...         ...\n",
       "90184  gate_40       False\n",
       "90185  gate_40       False\n",
       "90186  gate_30       False\n",
       "90187  gate_40       False\n",
       "90188  gate_40       False\n",
       "\n",
       "[90189 rows x 2 columns]"
      ]
     },
     "execution_count": 26,
     "metadata": {},
     "output_type": "execute_result"
    }
   ],
   "source": [
    "# Escolhe apenas 2 colunas do dataset\n",
    "df_ab_retencao_7 = dados[['version','retention_7']]\n",
    "df_ab_retencao_7.rename(columns={'version':'versao', 'retention_7':'retencao_7'}, inplace=True)\n",
    "df_ab_retencao_7\n"
   ]
  },
  {
   "cell_type": "code",
   "execution_count": 27,
   "metadata": {},
   "outputs": [
    {
     "data": {
      "text/plain": [
       "gate_40    45489\n",
       "gate_30    44700\n",
       "Name: versao, dtype: int64"
      ]
     },
     "execution_count": 27,
     "metadata": {},
     "output_type": "execute_result"
    }
   ],
   "source": [
    "df_ab_retencao_7.versao.value_counts()"
   ]
  },
  {
   "cell_type": "code",
   "execution_count": 28,
   "metadata": {},
   "outputs": [
    {
     "data": {
      "text/plain": [
       "(90189, 2)"
      ]
     },
     "execution_count": 28,
     "metadata": {},
     "output_type": "execute_result"
    }
   ],
   "source": [
    "df_ab_retencao_7.shape"
   ]
  },
  {
   "cell_type": "code",
   "execution_count": 29,
   "metadata": {},
   "outputs": [
    {
     "data": {
      "text/html": [
       "<div>\n",
       "<style scoped>\n",
       "    .dataframe tbody tr th:only-of-type {\n",
       "        vertical-align: middle;\n",
       "    }\n",
       "\n",
       "    .dataframe tbody tr th {\n",
       "        vertical-align: top;\n",
       "    }\n",
       "\n",
       "    .dataframe thead th {\n",
       "        text-align: right;\n",
       "    }\n",
       "</style>\n",
       "<table border=\"1\" class=\"dataframe\">\n",
       "  <thead>\n",
       "    <tr style=\"text-align: right;\">\n",
       "      <th></th>\n",
       "      <th>retencao_7</th>\n",
       "    </tr>\n",
       "    <tr>\n",
       "      <th>versao</th>\n",
       "      <th></th>\n",
       "    </tr>\n",
       "  </thead>\n",
       "  <tbody>\n",
       "    <tr>\n",
       "      <th>gate_30</th>\n",
       "      <td>8502</td>\n",
       "    </tr>\n",
       "    <tr>\n",
       "      <th>gate_40</th>\n",
       "      <td>8279</td>\n",
       "    </tr>\n",
       "  </tbody>\n",
       "</table>\n",
       "</div>"
      ],
      "text/plain": [
       "         retencao_7\n",
       "versao             \n",
       "gate_30        8502\n",
       "gate_40        8279"
      ]
     },
     "execution_count": 29,
     "metadata": {},
     "output_type": "execute_result"
    }
   ],
   "source": [
    "dados_sumario7 = df_ab_retencao_7.pivot_table(values='retencao_7', index='versao', aggfunc=np.sum)\n",
    "dados_sumario7"
   ]
  },
  {
   "cell_type": "code",
   "execution_count": 30,
   "metadata": {},
   "outputs": [
    {
     "data": {
      "text/html": [
       "<div>\n",
       "<style scoped>\n",
       "    .dataframe tbody tr th:only-of-type {\n",
       "        vertical-align: middle;\n",
       "    }\n",
       "\n",
       "    .dataframe tbody tr th {\n",
       "        vertical-align: top;\n",
       "    }\n",
       "\n",
       "    .dataframe thead th {\n",
       "        text-align: right;\n",
       "    }\n",
       "</style>\n",
       "<table border=\"1\" class=\"dataframe\">\n",
       "  <thead>\n",
       "    <tr style=\"text-align: right;\">\n",
       "      <th></th>\n",
       "      <th>versao</th>\n",
       "      <th>retencao_7</th>\n",
       "    </tr>\n",
       "  </thead>\n",
       "  <tbody>\n",
       "    <tr>\n",
       "      <th>4</th>\n",
       "      <td>gate_40</td>\n",
       "      <td>True</td>\n",
       "    </tr>\n",
       "    <tr>\n",
       "      <th>5</th>\n",
       "      <td>gate_40</td>\n",
       "      <td>True</td>\n",
       "    </tr>\n",
       "    <tr>\n",
       "      <th>8</th>\n",
       "      <td>gate_40</td>\n",
       "      <td>True</td>\n",
       "    </tr>\n",
       "    <tr>\n",
       "      <th>10</th>\n",
       "      <td>gate_40</td>\n",
       "      <td>True</td>\n",
       "    </tr>\n",
       "    <tr>\n",
       "      <th>27</th>\n",
       "      <td>gate_40</td>\n",
       "      <td>True</td>\n",
       "    </tr>\n",
       "    <tr>\n",
       "      <th>...</th>\n",
       "      <td>...</td>\n",
       "      <td>...</td>\n",
       "    </tr>\n",
       "    <tr>\n",
       "      <th>90059</th>\n",
       "      <td>gate_40</td>\n",
       "      <td>True</td>\n",
       "    </tr>\n",
       "    <tr>\n",
       "      <th>90115</th>\n",
       "      <td>gate_40</td>\n",
       "      <td>True</td>\n",
       "    </tr>\n",
       "    <tr>\n",
       "      <th>90125</th>\n",
       "      <td>gate_40</td>\n",
       "      <td>True</td>\n",
       "    </tr>\n",
       "    <tr>\n",
       "      <th>90150</th>\n",
       "      <td>gate_40</td>\n",
       "      <td>True</td>\n",
       "    </tr>\n",
       "    <tr>\n",
       "      <th>90156</th>\n",
       "      <td>gate_40</td>\n",
       "      <td>True</td>\n",
       "    </tr>\n",
       "  </tbody>\n",
       "</table>\n",
       "<p>8279 rows × 2 columns</p>\n",
       "</div>"
      ],
      "text/plain": [
       "        versao  retencao_7\n",
       "4      gate_40        True\n",
       "5      gate_40        True\n",
       "8      gate_40        True\n",
       "10     gate_40        True\n",
       "27     gate_40        True\n",
       "...        ...         ...\n",
       "90059  gate_40        True\n",
       "90115  gate_40        True\n",
       "90125  gate_40        True\n",
       "90150  gate_40        True\n",
       "90156  gate_40        True\n",
       "\n",
       "[8279 rows x 2 columns]"
      ]
     },
     "execution_count": 30,
     "metadata": {},
     "output_type": "execute_result"
    }
   ],
   "source": [
    "# Confirmando os valores da célula anterior\n",
    "df_ab_retencao_7.loc[(df_ab_retencao_7['versao'] == 'gate_40') & (df_ab_retencao_7['retencao_7'] == True)]"
   ]
  },
  {
   "cell_type": "code",
   "execution_count": 31,
   "metadata": {},
   "outputs": [
    {
     "data": {
      "text/html": [
       "<div>\n",
       "<style scoped>\n",
       "    .dataframe tbody tr th:only-of-type {\n",
       "        vertical-align: middle;\n",
       "    }\n",
       "\n",
       "    .dataframe tbody tr th {\n",
       "        vertical-align: top;\n",
       "    }\n",
       "\n",
       "    .dataframe thead th {\n",
       "        text-align: right;\n",
       "    }\n",
       "</style>\n",
       "<table border=\"1\" class=\"dataframe\">\n",
       "  <thead>\n",
       "    <tr style=\"text-align: right;\">\n",
       "      <th></th>\n",
       "      <th>retencao_7</th>\n",
       "      <th>total</th>\n",
       "    </tr>\n",
       "    <tr>\n",
       "      <th>versao</th>\n",
       "      <th></th>\n",
       "      <th></th>\n",
       "    </tr>\n",
       "  </thead>\n",
       "  <tbody>\n",
       "    <tr>\n",
       "      <th>gate_30</th>\n",
       "      <td>8502</td>\n",
       "      <td>44700</td>\n",
       "    </tr>\n",
       "    <tr>\n",
       "      <th>gate_40</th>\n",
       "      <td>8279</td>\n",
       "      <td>45489</td>\n",
       "    </tr>\n",
       "  </tbody>\n",
       "</table>\n",
       "</div>"
      ],
      "text/plain": [
       "         retencao_7  total\n",
       "versao                    \n",
       "gate_30        8502  44700\n",
       "gate_40        8279  45489"
      ]
     },
     "execution_count": 31,
     "metadata": {},
     "output_type": "execute_result"
    }
   ],
   "source": [
    "dados_sumario7['total'] = df_ab_retencao_7.pivot_table(values='retencao_7', index='versao', aggfunc= lambda x: len(x))\n",
    "dados_sumario7 "
   ]
  },
  {
   "cell_type": "code",
   "execution_count": 32,
   "metadata": {},
   "outputs": [
    {
     "data": {
      "text/html": [
       "<div>\n",
       "<style scoped>\n",
       "    .dataframe tbody tr th:only-of-type {\n",
       "        vertical-align: middle;\n",
       "    }\n",
       "\n",
       "    .dataframe tbody tr th {\n",
       "        vertical-align: top;\n",
       "    }\n",
       "\n",
       "    .dataframe thead th {\n",
       "        text-align: right;\n",
       "    }\n",
       "</style>\n",
       "<table border=\"1\" class=\"dataframe\">\n",
       "  <thead>\n",
       "    <tr style=\"text-align: right;\">\n",
       "      <th></th>\n",
       "      <th>retencao_7</th>\n",
       "      <th>total</th>\n",
       "      <th>taxa</th>\n",
       "    </tr>\n",
       "    <tr>\n",
       "      <th>versao</th>\n",
       "      <th></th>\n",
       "      <th></th>\n",
       "      <th></th>\n",
       "    </tr>\n",
       "  </thead>\n",
       "  <tbody>\n",
       "    <tr>\n",
       "      <th>gate_30</th>\n",
       "      <td>8502</td>\n",
       "      <td>44700</td>\n",
       "      <td>0.190201</td>\n",
       "    </tr>\n",
       "    <tr>\n",
       "      <th>gate_40</th>\n",
       "      <td>8279</td>\n",
       "      <td>45489</td>\n",
       "      <td>0.182000</td>\n",
       "    </tr>\n",
       "  </tbody>\n",
       "</table>\n",
       "</div>"
      ],
      "text/plain": [
       "         retencao_7  total      taxa\n",
       "versao                              \n",
       "gate_30        8502  44700  0.190201\n",
       "gate_40        8279  45489  0.182000"
      ]
     },
     "execution_count": 32,
     "metadata": {},
     "output_type": "execute_result"
    }
   ],
   "source": [
    "dados_sumario7['taxa'] = df_ab_retencao_7.pivot_table(values='retencao_7', index='versao')\n",
    "dados_sumario7"
   ]
  },
  {
   "cell_type": "code",
   "execution_count": 33,
   "metadata": {},
   "outputs": [
    {
     "name": "stdout",
     "output_type": "stream",
     "text": [
      "conversao7_30 = 8502\n",
      "total_30 =  44700\n",
      "taxa_30 = 0.19020134228187918\n"
     ]
    }
   ],
   "source": [
    "# Obtem os valores de gate_30\n",
    "\n",
    "conversao7_30 = dados_sumario7['retencao_7'][0]\n",
    "print('conversao7_30 =',conversao7_30)\n",
    "total7_30 = dados_sumario7['total'][0]\n",
    "print('total_30 = ', total7_30)\n",
    "taxa7_30 = dados_sumario7['taxa'][0]\n",
    "print('taxa_30 =', taxa7_30)"
   ]
  },
  {
   "cell_type": "code",
   "execution_count": 34,
   "metadata": {},
   "outputs": [
    {
     "name": "stdout",
     "output_type": "stream",
     "text": [
      "conversao7_40 = 8279\n",
      "total_40 =  45489\n",
      "taxa_40 = 0.18200004396667327\n"
     ]
    }
   ],
   "source": [
    "# Obtem os valores de gate_40\n",
    "\n",
    "conversao7_40 = dados_sumario7['retencao_7'][1]\n",
    "print('conversao7_40 =',conversao7_40)\n",
    "total7_40 = dados_sumario7['total'][1]\n",
    "print('total_40 = ', total7_40)\n",
    "taxa7_40 = dados_sumario7['taxa'][1]\n",
    "print('taxa_40 =', taxa7_40)"
   ]
  },
  {
   "attachments": {},
   "cell_type": "markdown",
   "metadata": {},
   "source": [
    "### Execução do Teste de Hipótese\n",
    "\n",
    "Executamos o teste de hipótese e registramos a taxa de sucesso de cada grupo"
   ]
  },
  {
   "attachments": {},
   "cell_type": "markdown",
   "metadata": {},
   "source": [
    "Poder estatístico ou sensibilidade\n",
    "\n",
    "Igual a 1 - Beta\n",
    "\n",
    "Normalmente 80% é usada para a maioria das análsies. É a probalbilidade de rejeitar a hipótese nula quando a hipótese nula é de fato falsa\n",
    "\n",
    "Parâmetros para o teste:\n",
    "\n",
    "1 - Alfa (nível de significância): normalmente 5%; probabilidade de rejeitar a hipótese nula quando a hipótese nula for verdadeira\n",
    "\n",
    "2 - Beta: probabilidade de aceitar a hipótese nula quando a hipótese nula é realmente falsa\n",
    "\n"
   ]
  },
  {
   "cell_type": "code",
   "execution_count": 35,
   "metadata": {},
   "outputs": [],
   "source": [
    "# Parâmetros para o teste\n",
    "\n",
    "alfa = 0.05\n",
    "beta = 0.2"
   ]
  },
  {
   "attachments": {},
   "cell_type": "markdown",
   "metadata": {},
   "source": [
    "#### Utilizando Teste Chi-Quadrado\n",
    "\n",
    "##### scipy.chisquare\n",
    "\n",
    "Usei o teste chi-quadrado com o comando stats.chisquare porque ele é apropriado para verificar se uma distribuição binomial é consistente com uma hipótese específica. O teste chi-quadrado é usado para comparar uma distribuição de frequência esperada com uma distribuição de frequência observada. No caso, a hipótese nula é que as distribuições binomiais dos grupos A e B são iguais e a hipótese alternativa é que elas são diferentes. O teste chi-quadrado nos permite determinar se as diferenças entre as distribuições observadas e esperadas são estatisticamente significativas ou se podem ser explicadas por acaso.\n",
    "\n",
    "No exemplo seguinte, a distribuição de frequência esperada é calculada com base na probabilidade de sucesso (p) de cada grupo (A e B) e no tamanho da amostra (n) de cada grupo. A distribuição de frequência observada é o número de sucessos (k) registrados em cada grupo.\n",
    "\n",
    "A função scipy.chisquare é usada para realizar um teste de hipótese para verificar se uma amostra de dados segue uma distribuição específica. Ela aceita como entrada os dados observados e a distribuição teórica esperada, e retorna o valor do estatístico de teste chi-square e o p-valor. \n",
    "\n",
    "n_A = 44700\n",
    "p_A = 0.4481\n",
    "f_exp_A = n_A*p_A\n",
    "\n",
    "E a distribuição de frequência observada é k_A = 20034"
   ]
  },
  {
   "cell_type": "code",
   "execution_count": 36,
   "metadata": {},
   "outputs": [
    {
     "name": "stdout",
     "output_type": "stream",
     "text": [
      "stat 0.0\n",
      "p-value 1.0\n",
      "Não rejeitamos a hipótese nula. Não há diferença entre valores observados e esperados na          conversão de 1 dia entre os dois grupos de teste.\n"
     ]
    }
   ],
   "source": [
    "from scipy.stats import binom, chisquare\n",
    "\n",
    "# Dados do grupo A\n",
    "n_A = total1_30\n",
    "k_A = conversao1_30\n",
    "p_A = taxa1_30\n",
    "\n",
    "# Dados do grupo B\n",
    "n_B = total1_40\n",
    "k_B = conversao1_40\n",
    "p_B = taxa1_40\n",
    "\n",
    "# Cálculo do teste chi-quadrado\n",
    "stat, p_value = chisquare(f_obs=[k_A, k_B], f_exp=[n_A*p_A, n_B*p_B])\n",
    "print('stat', stat)\n",
    "print('p-value', p_value)\n",
    "\n",
    "# Verificação do nível de significância\n",
    "alpha = 0.05\n",
    "if p_value < alpha:\n",
    "    print(\"Rejeitamos a hipótese nula. Há diferença entre valores observados e esperados na\\\n",
    "          conversão de 1 dia entre os dois grupos de teste.\")\n",
    "else:\n",
    "    print(\"Não rejeitamos a hipótese nula. Não há diferença entre valores observados e esperados na\\\n",
    "          conversão de 1 dia entre os dois grupos de teste.\")\n"
   ]
  },
  {
   "attachments": {},
   "cell_type": "markdown",
   "metadata": {},
   "source": [
    "##### scipy.chi2_contingency\n",
    "\n",
    "A função scipy.chi2_contingency é usada para testar a independência entre duas variáveis categóricas. Ela é usada para avaliar se duas variáveis estão relacionadas ou não. Ela aceita como entrada uma matriz de contingência, que representa o número de ocorrências em cada combinação de categorias, e retorna o estatístico de teste chi-square, o p-valor, as frequências esperadas e a matriz de contingência ajustada."
   ]
  },
  {
   "cell_type": "code",
   "execution_count": 37,
   "metadata": {},
   "outputs": [
    {
     "name": "stdout",
     "output_type": "stream",
     "text": [
      "[[0.44818792 0.19020134]\n",
      " [0.44228275 0.18200004]]\n",
      "Estatística de teste:  3.779447056154972\n",
      "p-value:  0.051885804351360726\n",
      "Graus de liberdade:  1\n",
      "Valores esperados: \n",
      " [[0.45020947 0.18817979]\n",
      " [0.4402612  0.18402159]]\n",
      "Não rejeitamos a hipótese nula. Não há diferença significamente estatística entre conversão de dias de jogos         e níveis de jogos.\n"
     ]
    }
   ],
   "source": [
    "import scipy.stats as stats \n",
    "#from stats import binom, chisquare, chi2_contingency\n",
    "\n",
    "#dados_chi = np.array([[conversao1_30, conversao7_30],\n",
    "#             [conversao1_40, conversao7_40]])\n",
    "\n",
    "dados_chi = np.array([[taxa1_30, taxa7_30],\n",
    "             [taxa1_40, taxa7_40]])\n",
    "\n",
    "print(dados_chi)\n",
    "\n",
    "# Cálculo do teste chi-quadrado\n",
    "stat, p, dof, expected = stats.chi2_contingency(dados_chi)\n",
    "\n",
    "print(\"Estatística de teste: \", stat)\n",
    "print(\"p-value: \", p)\n",
    "print(\"Graus de liberdade: \", dof)\n",
    "print(\"Valores esperados: \\n\", expected)\n",
    "\n",
    "# Verificação do nível de significância\n",
    "alpha = 0.05\n",
    "if p < alpha:\n",
    "    print(\"Rejeitamos a hipótese nula. Há diferença significamente estatística entre conversão de dias de jogos\\\n",
    "         e níveis de jogos.\")\n",
    "else:\n",
    "    print(\"Não rejeitamos a hipótese nula. Não há diferença significamente estatística entre conversão de dias de jogos\\\n",
    "         e níveis de jogos.\")\n"
   ]
  }
 ],
 "metadata": {
  "kernelspec": {
   "display_name": "Python 3.9.2 64-bit",
   "language": "python",
   "name": "python3"
  },
  "language_info": {
   "codemirror_mode": {
    "name": "ipython",
    "version": 3
   },
   "file_extension": ".py",
   "mimetype": "text/x-python",
   "name": "python",
   "nbconvert_exporter": "python",
   "pygments_lexer": "ipython3",
   "version": "3.9.2"
  },
  "orig_nbformat": 4,
  "vscode": {
   "interpreter": {
    "hash": "d31ac778d89b8991938e8e3c9c16af3f982755c7453153909569a5426ddff433"
   }
  }
 },
 "nbformat": 4,
 "nbformat_minor": 2
}
